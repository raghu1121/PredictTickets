{
 "cells": [
  {
   "cell_type": "markdown",
   "metadata": {},
   "source": [
    "# Task 2: Optimal assignment for maximizing expected revenue \n",
    "It assumes the total number of seats in the `pred_list` and `sell_up_prob` are deterministic. There can be multiple approaches, but I am presenting the most greedy approach."
   ]
  },
  {
   "cell_type": "code",
   "execution_count": 1,
   "metadata": {},
   "outputs": [],
   "source": [
    "import math\n",
    "def sell_up_prob(x):\n",
    "    return (0.5*(math.exp(1-(x/9)) + math.exp(3-(x/3))))"
   ]
  },
  {
   "cell_type": "markdown",
   "metadata": {},
   "source": [
    "__The optimize() takes the price categories(`price_cat`) and current prediction list(`pred_list`) and returns optimized allotment and improved revenue.__\n",
    "- According to `sell_up_prob` the maximum number seats that can be sold per price category is `sum_ticket` * `sell_up_prob`, where `sum_ticket` is the total number of all predicted seats.\n",
    "- To maximize revenue we can start assigning tickets from higher price category to lower price category, at each category not exceeding `sum_ticket` * `sell_up_prob`.\n",
    "- When ever the assignment in a category exceeds the remaining tickets, it takes the remaining tickets. There will be no futher assignments in the lower categories thereafter."
   ]
  },
  {
   "cell_type": "code",
   "execution_count": 13,
   "metadata": {},
   "outputs": [],
   "source": [
    "def optimize(price_cat, pred_list):\n",
    "    sum_tickets = sum(pred_list)\n",
    "    opt_list = []\n",
    "    price_cat.reverse()\n",
    "    for price in price_cat:\n",
    "        if sum_tickets - sum(opt_list) >= 0:\n",
    "            assignment = sum_tickets * sell_up_prob(price)           \n",
    "            if assignment > sum_tickets - sum(opt_list):\n",
    "                assignment = sum_tickets - sum(opt_list)\n",
    "            opt_list.append(assignment)\n",
    "    opt_list.reverse()\n",
    "    price_cat.reverse()\n",
    "    print('Current assignment of tickets : ', pred_list)\n",
    "    print('Optimized assignment of tickets : ', [round(x,1) for x in opt_list])\n",
    "    print('Current revenue : ', sum([a * b for a, b in zip(price_cat, pred_list)]))\n",
    "    print('Improved revenue : ', round(sum([a * b for a, b in zip(price_cat, opt_list)]),1))"
   ]
  },
  {
   "cell_type": "markdown",
   "metadata": {},
   "source": [
    "__For Wednesday : The revenue from the given assignment of seats is `204.3`, where as after optimizing the improved  revenue is`262.2`.__\n",
    "\n",
    "__That is a `28%` increase in revenue.__"
   ]
  },
  {
   "cell_type": "code",
   "execution_count": 14,
   "metadata": {},
   "outputs": [
    {
     "name": "stdout",
     "output_type": "stream",
     "text": [
      "Current assignment of tickets :  [7.5, 8.9, 2, 0]\n",
      "Optimized assignment of tickets :  [0.0, 9.1, 6.0, 3.4]\n",
      "Current revenue :  204.3\n",
      "Improved revenue :  262.2\n"
     ]
    }
   ],
   "source": [
    "pred_list_Wed = [7.5, 8.9, 2, 0]\n",
    "price_cat = [9, 12, 15, 19]\n",
    "optimize(price_cat, pred_list_Wed)"
   ]
  },
  {
   "cell_type": "markdown",
   "metadata": {},
   "source": [
    "__For Friday : The revenue from the given assignment of seats is `560.6`, where as after optimizing the improved  revenue is`611.3`.__\n",
    "\n",
    "__That is a `9%` increase in revenue.__"
   ]
  },
  {
   "cell_type": "code",
   "execution_count": 15,
   "metadata": {},
   "outputs": [
    {
     "name": "stdout",
     "output_type": "stream",
     "text": [
      "Current assignment of tickets :  [4.5, 25.3, 8.1, 5.0]\n",
      "Optimized assignment of tickets :  [0.0, 21.2, 13.9, 7.8]\n",
      "Current revenue :  560.6\n",
      "Improved revenue :  611.3\n"
     ]
    }
   ],
   "source": [
    "pred_list_Fri = [4.5, 25.3, 8.1, 5.0]\n",
    "optimize(price_cat, pred_list_Fri)"
   ]
  },
  {
   "cell_type": "markdown",
   "metadata": {},
   "source": [
    "__However, if the price categories are not fixed to `4` i.e `[9,12,15,19]`  rather dynamically increased by a Euro from `9 to 19` \n",
    "There are even better increased revenues.__\n",
    "\n",
    "__For Wednesday : The revenue increased by a whooping `54%`.__\n"
   ]
  },
  {
   "cell_type": "code",
   "execution_count": 16,
   "metadata": {},
   "outputs": [
    {
     "name": "stdout",
     "output_type": "stream",
     "text": [
      "Current assignment of tickets :  [7.5, 0, 0, 8.9, 0, 0, 2, 0, 0, 0, 0]\n",
      "Optimized assignment of tickets :  [0.0, 0.0, 0.0, 0.0, 0.0, 0.0, 1.7, 5.1, 4.4, 3.8, 3.4]\n",
      "Current revenue :  204.3\n",
      "Improved revenue :  314.9\n"
     ]
    }
   ],
   "source": [
    "price_cat = [x for x in range(9,20)]\n",
    "pred_list_Wed = [7.5, 0, 0, 8.9, 0, 0, 2, 0, 0, 0, 0]\n",
    "optimize(price_cat, pred_list_Wed)"
   ]
  },
  {
   "cell_type": "markdown",
   "metadata": {},
   "source": [
    "__Similarly for Friday the revenue increased by `30%`.__"
   ]
  },
  {
   "cell_type": "code",
   "execution_count": 17,
   "metadata": {},
   "outputs": [
    {
     "name": "stdout",
     "output_type": "stream",
     "text": [
      "Current assignment of tickets :  [4.5, 0, 0, 25.3, 0, 0, 8.1, 0, 0, 0, 5.0]\n",
      "Optimized assignment of tickets :  [0.0, 0.0, 0.0, 0.0, 0.0, 0.0, 3.9, 11.9, 10.3, 9.0, 7.8]\n",
      "Current revenue :  560.6\n",
      "Improved revenue :  734.2\n"
     ]
    }
   ],
   "source": [
    "pred_list_Fri = [4.5, 0, 0, 25.3, 0, 0, 8.1, 0, 0, 0, 5.0]\n",
    "optimize(price_cat, pred_list_Fri)"
   ]
  }
 ],
 "metadata": {
  "kernelspec": {
   "display_name": "Python 3",
   "language": "python",
   "name": "python3"
  },
  "language_info": {
   "codemirror_mode": {
    "name": "ipython",
    "version": 3
   },
   "file_extension": ".py",
   "mimetype": "text/x-python",
   "name": "python",
   "nbconvert_exporter": "python",
   "pygments_lexer": "ipython3",
   "version": "3.6.4"
  }
 },
 "nbformat": 4,
 "nbformat_minor": 4
}
