{
 "cells": [
  {
   "cell_type": "markdown",
   "metadata": {},
   "source": [
    "__Since the neural network creates several models, we need to find the best among them. Usually the least MAE error model, comes the top, when sorted by name. This is a confirmation that it is the best model obtained.__"
   ]
  },
  {
   "cell_type": "code",
   "execution_count": 1,
   "metadata": {},
   "outputs": [
    {
     "name": "stderr",
     "output_type": "stream",
     "text": [
      "Using TensorFlow backend.\n"
     ]
    }
   ],
   "source": [
    "import warnings\n",
    "warnings.filterwarnings('ignore')\n",
    "from keras.models import Sequential\n",
    "from keras.layers import Dense,Dropout\n",
    "def mlp(dropout_rate=0.0,activation1='relu', activation2='relu', activation3='relu', activation4='relu',\n",
    "                       activation5='relu',activation6='relu'):\n",
    "    model = Sequential()\n",
    "    model.add(Dense(1024, input_dim=len(X.columns), kernel_initializer='normal', activation=activation1))\n",
    "    model.add(Dropout(dropout_rate))\n",
    "    model.add(Dense(512, kernel_initializer='normal', activation=activation2))\n",
    "    model.add(Dropout(dropout_rate))\n",
    "    model.add(Dense(256, kernel_initializer='normal', activation=activation3))\n",
    "    model.add(Dropout(dropout_rate))\n",
    "    model.add(Dense(128, kernel_initializer='normal', activation=activation4))\n",
    "    model.add(Dropout(dropout_rate))\n",
    "    model.add(Dense(64, kernel_initializer='normal', activation=activation5))\n",
    "    model.add(Dropout(dropout_rate))\n",
    "    model.add(Dense(32, kernel_initializer='normal', activation=activation6))\n",
    "    model.add(Dense(4, kernel_initializer='normal', activation='relu'))\n",
    "    # Compile model\n",
    "    model.compile(loss='mae', optimizer='adam', metrics=['mae'])\n",
    "    return model"
   ]
  },
  {
   "cell_type": "markdown",
   "metadata": {},
   "source": [
    "__splitting the data once again into inputs and outputs.__"
   ]
  },
  {
   "cell_type": "code",
   "execution_count": 2,
   "metadata": {},
   "outputs": [
    {
     "data": {
      "text/html": [
       "<div>\n",
       "<style scoped>\n",
       "    .dataframe tbody tr th:only-of-type {\n",
       "        vertical-align: middle;\n",
       "    }\n",
       "\n",
       "    .dataframe tbody tr th {\n",
       "        vertical-align: top;\n",
       "    }\n",
       "\n",
       "    .dataframe thead th {\n",
       "        text-align: right;\n",
       "    }\n",
       "</style>\n",
       "<table border=\"1\" class=\"dataframe\">\n",
       "  <thead>\n",
       "    <tr style=\"text-align: right;\">\n",
       "      <th></th>\n",
       "      <th>month</th>\n",
       "      <th>day_of_year</th>\n",
       "      <th>hour</th>\n",
       "      <th>minute</th>\n",
       "      <th>day_of_week</th>\n",
       "      <th>holiday</th>\n",
       "      <th>route_A-&gt;B</th>\n",
       "      <th>route_B-&gt;A</th>\n",
       "      <th>capacity</th>\n",
       "    </tr>\n",
       "  </thead>\n",
       "  <tbody>\n",
       "    <tr>\n",
       "      <th>0</th>\n",
       "      <td>1</td>\n",
       "      <td>1</td>\n",
       "      <td>8</td>\n",
       "      <td>15</td>\n",
       "      <td>3</td>\n",
       "      <td>1</td>\n",
       "      <td>0</td>\n",
       "      <td>1</td>\n",
       "      <td>82.0</td>\n",
       "    </tr>\n",
       "    <tr>\n",
       "      <th>1</th>\n",
       "      <td>1</td>\n",
       "      <td>1</td>\n",
       "      <td>9</td>\n",
       "      <td>15</td>\n",
       "      <td>3</td>\n",
       "      <td>1</td>\n",
       "      <td>1</td>\n",
       "      <td>0</td>\n",
       "      <td>82.0</td>\n",
       "    </tr>\n",
       "    <tr>\n",
       "      <th>2</th>\n",
       "      <td>1</td>\n",
       "      <td>1</td>\n",
       "      <td>10</td>\n",
       "      <td>15</td>\n",
       "      <td>3</td>\n",
       "      <td>1</td>\n",
       "      <td>0</td>\n",
       "      <td>1</td>\n",
       "      <td>82.0</td>\n",
       "    </tr>\n",
       "    <tr>\n",
       "      <th>3</th>\n",
       "      <td>1</td>\n",
       "      <td>1</td>\n",
       "      <td>11</td>\n",
       "      <td>45</td>\n",
       "      <td>3</td>\n",
       "      <td>1</td>\n",
       "      <td>1</td>\n",
       "      <td>0</td>\n",
       "      <td>82.0</td>\n",
       "    </tr>\n",
       "    <tr>\n",
       "      <th>4</th>\n",
       "      <td>1</td>\n",
       "      <td>1</td>\n",
       "      <td>12</td>\n",
       "      <td>45</td>\n",
       "      <td>3</td>\n",
       "      <td>1</td>\n",
       "      <td>0</td>\n",
       "      <td>1</td>\n",
       "      <td>82.0</td>\n",
       "    </tr>\n",
       "  </tbody>\n",
       "</table>\n",
       "</div>"
      ],
      "text/plain": [
       "   month  day_of_year  hour  minute  day_of_week  holiday  route_A->B  \\\n",
       "0      1            1     8      15            3        1           0   \n",
       "1      1            1     9      15            3        1           1   \n",
       "2      1            1    10      15            3        1           0   \n",
       "3      1            1    11      45            3        1           1   \n",
       "4      1            1    12      45            3        1           0   \n",
       "\n",
       "   route_B->A  capacity  \n",
       "0           1      82.0  \n",
       "1           0      82.0  \n",
       "2           1      82.0  \n",
       "3           0      82.0  \n",
       "4           1      82.0  "
      ]
     },
     "execution_count": 2,
     "metadata": {},
     "output_type": "execute_result"
    }
   ],
   "source": [
    "import pandas as pd\n",
    "\n",
    "df = pd.read_csv('cleaned_data.csv')\n",
    "X = df.loc[:,:'capacity']\n",
    "Y = df.loc[:,'tickets_9_eur':'tickets_19_eur']\n",
    "X.head()"
   ]
  },
  {
   "cell_type": "markdown",
   "metadata": {},
   "source": [
    "__Here we only need the test dataset to test the models. Previously pickled scaler is reused on test data.__"
   ]
  },
  {
   "cell_type": "code",
   "execution_count": 3,
   "metadata": {},
   "outputs": [
    {
     "data": {
      "text/html": [
       "<div>\n",
       "<style scoped>\n",
       "    .dataframe tbody tr th:only-of-type {\n",
       "        vertical-align: middle;\n",
       "    }\n",
       "\n",
       "    .dataframe tbody tr th {\n",
       "        vertical-align: top;\n",
       "    }\n",
       "\n",
       "    .dataframe thead th {\n",
       "        text-align: right;\n",
       "    }\n",
       "</style>\n",
       "<table border=\"1\" class=\"dataframe\">\n",
       "  <thead>\n",
       "    <tr style=\"text-align: right;\">\n",
       "      <th></th>\n",
       "      <th>month</th>\n",
       "      <th>day_of_year</th>\n",
       "      <th>hour</th>\n",
       "      <th>minute</th>\n",
       "      <th>day_of_week</th>\n",
       "      <th>holiday</th>\n",
       "      <th>route_A-&gt;B</th>\n",
       "      <th>route_B-&gt;A</th>\n",
       "      <th>capacity</th>\n",
       "    </tr>\n",
       "  </thead>\n",
       "  <tbody>\n",
       "    <tr>\n",
       "      <th>15432</th>\n",
       "      <td>1.654512</td>\n",
       "      <td>1.540487</td>\n",
       "      <td>1.620661</td>\n",
       "      <td>-0.881874</td>\n",
       "      <td>1.389186</td>\n",
       "      <td>0</td>\n",
       "      <td>0</td>\n",
       "      <td>1</td>\n",
       "      <td>82.0</td>\n",
       "    </tr>\n",
       "    <tr>\n",
       "      <th>15433</th>\n",
       "      <td>1.654512</td>\n",
       "      <td>1.540487</td>\n",
       "      <td>1.818428</td>\n",
       "      <td>-0.220211</td>\n",
       "      <td>1.389186</td>\n",
       "      <td>0</td>\n",
       "      <td>1</td>\n",
       "      <td>0</td>\n",
       "      <td>82.0</td>\n",
       "    </tr>\n",
       "    <tr>\n",
       "      <th>15434</th>\n",
       "      <td>1.654512</td>\n",
       "      <td>1.550500</td>\n",
       "      <td>-1.741382</td>\n",
       "      <td>-0.881874</td>\n",
       "      <td>-1.612973</td>\n",
       "      <td>0</td>\n",
       "      <td>0</td>\n",
       "      <td>1</td>\n",
       "      <td>82.0</td>\n",
       "    </tr>\n",
       "    <tr>\n",
       "      <th>15435</th>\n",
       "      <td>1.654512</td>\n",
       "      <td>1.550500</td>\n",
       "      <td>-1.543615</td>\n",
       "      <td>-0.881874</td>\n",
       "      <td>-1.612973</td>\n",
       "      <td>0</td>\n",
       "      <td>0</td>\n",
       "      <td>1</td>\n",
       "      <td>82.0</td>\n",
       "    </tr>\n",
       "    <tr>\n",
       "      <th>15436</th>\n",
       "      <td>1.654512</td>\n",
       "      <td>1.550500</td>\n",
       "      <td>-1.543615</td>\n",
       "      <td>1.103114</td>\n",
       "      <td>-1.612973</td>\n",
       "      <td>0</td>\n",
       "      <td>1</td>\n",
       "      <td>0</td>\n",
       "      <td>82.0</td>\n",
       "    </tr>\n",
       "  </tbody>\n",
       "</table>\n",
       "</div>"
      ],
      "text/plain": [
       "          month  day_of_year      hour    minute  day_of_week  holiday  \\\n",
       "15432  1.654512     1.540487  1.620661 -0.881874     1.389186        0   \n",
       "15433  1.654512     1.540487  1.818428 -0.220211     1.389186        0   \n",
       "15434  1.654512     1.550500 -1.741382 -0.881874    -1.612973        0   \n",
       "15435  1.654512     1.550500 -1.543615 -0.881874    -1.612973        0   \n",
       "15436  1.654512     1.550500 -1.543615  1.103114    -1.612973        0   \n",
       "\n",
       "       route_A->B  route_B->A  capacity  \n",
       "15432           0           1      82.0  \n",
       "15433           1           0      82.0  \n",
       "15434           0           1      82.0  \n",
       "15435           0           1      82.0  \n",
       "15436           1           0      82.0  "
      ]
     },
     "execution_count": 3,
     "metadata": {},
     "output_type": "execute_result"
    }
   ],
   "source": [
    "from sklearn.model_selection import train_test_split\n",
    "_, X_test,__,Y_test = train_test_split(X,Y,test_size=0.2,shuffle=False)\n",
    "import warnings\n",
    "warnings.filterwarnings('ignore')\n",
    "from sklearn.preprocessing import StandardScaler\n",
    "import numpy as np\n",
    "import joblib\n",
    "scaler = joblib.load('scaler.pkl')\n",
    "X_test.loc[:,'month':'day_of_week'] = scaler.transform(X_test.loc[:,'month':'day_of_week'])\n",
    "X_test.head()"
   ]
  },
  {
   "cell_type": "markdown",
   "metadata": {},
   "source": [
    "__Testing a small set of best possible models and storing it to a csv file.__"
   ]
  },
  {
   "cell_type": "code",
   "execution_count": 4,
   "metadata": {},
   "outputs": [],
   "source": [
    "import glob\n",
    "path = 'models'\n",
    "files = sorted(glob.glob(path + '/model-5.*.hdf5'),reverse=False)"
   ]
  },
  {
   "cell_type": "markdown",
   "metadata": {},
   "source": [
    "__It looks like the best model is `model-5.8806.hdf5`. Though it is saved with MAE of 5.88, it seems the actual MAE is still less, that is 4.17. This can be attributed to the fact that usage of dropout in the layers, doesn't show the full potential while validating on the test set.__"
   ]
  },
  {
   "cell_type": "code",
   "execution_count": 6,
   "metadata": {},
   "outputs": [
    {
     "name": "stdout",
     "output_type": "stream",
     "text": [
      "model-5.8806 4.171369634281425\n",
      "model-5.8979 4.189123009451259\n",
      "model-5.9133 4.217888092518842\n",
      "model-5.9158 4.149058233050242\n",
      "model-5.9166 4.14946626844884\n",
      "model-5.9323 4.213984692876723\n",
      "model-5.9518 4.42608068106979\n",
      "model-5.9546 4.229189552396185\n",
      "model-5.9569 4.275531436327773\n",
      "model-5.9726 4.358896814346938\n",
      "model-5.9790 4.40574406583247\n"
     ]
    }
   ],
   "source": [
    "from sklearn.metrics import mean_absolute_error\n",
    "import csv\n",
    "from keras.models import load_model\n",
    "import warnings\n",
    "warnings.filterwarnings('ignore')\n",
    "for file in files[0:50]:\n",
    "    model = load_model(file)\n",
    "    Y_test_pred = model.predict(X_test)\n",
    "    mae = mean_absolute_error(Y_test_pred, Y_test)\n",
    "    key = file.split('/')[-1].split('.hdf5')[0]\n",
    "    print(key,mae)\n",
    "    with open('validation_results.csv', 'a') as f:\n",
    "            writer = csv.writer(f)\n",
    "            writer.writerow([key, mae])"
   ]
  },
  {
   "cell_type": "code",
   "execution_count": null,
   "metadata": {},
   "outputs": [],
   "source": []
  }
 ],
 "metadata": {
  "kernelspec": {
   "display_name": "Python 3",
   "language": "python",
   "name": "python3"
  },
  "language_info": {
   "codemirror_mode": {
    "name": "ipython",
    "version": 3
   },
   "file_extension": ".py",
   "mimetype": "text/x-python",
   "name": "python",
   "nbconvert_exporter": "python",
   "pygments_lexer": "ipython3",
   "version": "3.6.4"
  }
 },
 "nbformat": 4,
 "nbformat_minor": 4
}
